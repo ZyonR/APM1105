{
 "cells": [
  {
   "cell_type": "code",
   "execution_count": 2,
   "metadata": {},
   "outputs": [
    {
     "name": "stdout",
     "output_type": "stream",
     "text": [
      "\n",
      "\n",
      "Answer (Iterative): 5\n",
      "Answer (Recursive): 5\n",
      "\n",
      "Time (Iterative): 6.599999323952943e-06\n",
      "Time (Recursive): 4.599998646881431e-06\n",
      "Recursion is Faster!\n"
     ]
    }
   ],
   "source": [
    "from timeit import timeit\n",
    "def fibo_iterations(limit):\n",
    "    finalAnswer = 0\n",
    "    startingPoint = 0\n",
    "    nextPoint = 1\n",
    "    i = 1\n",
    "\n",
    "    while i < limit:\n",
    "        finalAnswer = startingPoint+nextPoint\n",
    "\n",
    "        startingPoint = nextPoint\n",
    "        nextPoint = finalAnswer\n",
    "        i+=1\n",
    "    return finalAnswer\n",
    "def fibo_recursion(startingPoint,nextPoint = 0):\n",
    "    if nextPoint == 0:\n",
    "        fibo_recursion(0,1)\n",
    "    else:\n",
    "        if len(dummy_count)!=limit:\n",
    "            dummy_count.append(startingPoint)\n",
    "            final = nextPoint + fibo_recursion(nextPoint, startingPoint+nextPoint)\n",
    "            total(final)\n",
    "            return final\n",
    "        else:\n",
    "            return 1\n",
    "    return total.bye\n",
    "def total(totality):\n",
    "    total.bye = totality\n",
    "dummy_count = [0,1]\n",
    "    \n",
    "limit = int(input(\"Input a value of n: \"))\n",
    "print(f\"\\n\\nAnswer (Iterative): {fibo_iterations(limit)}\"); print(f\"Answer (Recursive): {fibo_recursion(limit)}\")\n",
    "\n",
    "\n",
    "fibo_iterative_time = timeit(lambda : fibo_iterations(limit), number=1)\n",
    "fibo_recursion_time = timeit(lambda : fibo_recursion(limit), number=1)\n",
    "print(f\"\\nTime (Iterative): {fibo_iterative_time}\"); print(f\"Time (Recursive): {fibo_recursion_time}\")\n",
    "\n",
    "if fibo_iterative_time < fibo_recursion_time:\n",
    "    print(\"Iteration is Faster!\")\n",
    "else:\n",
    "    print(\"Recursion is Faster!\")"
   ]
  },
  {
   "cell_type": "code",
   "execution_count": null,
   "metadata": {},
   "outputs": [],
   "source": []
  }
 ],
 "metadata": {
  "kernelspec": {
   "display_name": "Python 3",
   "language": "python",
   "name": "python3"
  },
  "language_info": {
   "codemirror_mode": {
    "name": "ipython",
    "version": 3
   },
   "file_extension": ".py",
   "mimetype": "text/x-python",
   "name": "python",
   "nbconvert_exporter": "python",
   "pygments_lexer": "ipython3",
   "version": "3.11.1"
  },
  "orig_nbformat": 4
 },
 "nbformat": 4,
 "nbformat_minor": 2
}
