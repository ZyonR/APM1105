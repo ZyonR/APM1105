{
 "cells": [
  {
   "cell_type": "code",
   "execution_count": null,
   "metadata": {},
   "outputs": [],
   "source": [
    "#Number 3 SA1\n",
    "import numpy as np\n",
    "\n",
    "def what_ofX():\n",
    "    limit_manager = 0\n",
    "    Iam_X = 2\n",
    "    while limit_manager != 1:\n",
    "        x = Iam_X**3+5*Iam_X\n",
    "        print(x)\n",
    "        if x != 20:\n",
    "            print(f\"Previous X1: {Iam_X}\")\n",
    "            Iam_twinOf_X = np.cbrt(20-5*Iam_X)\n",
    "            Iam_twinOf_X = round(Iam_twinOf_X,3)\n",
    "            print(f\"Updated X2: {Iam_twinOf_X}\")\n",
    "            if Iam_X == Iam_twinOf_X:\n",
    "                print(f\"x is equals to: {x}\")\n",
    "                limit_manager +=1\n",
    "            else:\n",
    "                Iam_X = Iam_twinOf_X\n",
    "\n",
    "\n",
    "what_ofX()"
   ]
  }
 ],
 "metadata": {
  "language_info": {
   "name": "python"
  },
  "orig_nbformat": 4
 },
 "nbformat": 4,
 "nbformat_minor": 2
}
