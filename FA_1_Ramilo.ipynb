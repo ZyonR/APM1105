{
 "cells": [
  {
   "cell_type": "code",
   "execution_count": null,
   "metadata": {},
   "outputs": [],
   "source": [
    "print('FORMATIVE ASSESSMENT')\n",
    "ques1=\"1. How many seconds are there in 42 minutes 42 seconds?\"\n",
    "print(ques1)\n",
    "num1=int(input(\"Please input minutes: \"))\n",
    "num1a=int(input(\"Please input seconds: \"))\n",
    "seconds=num1*60+num1a\n",
    "print(seconds,'seconds')\n",
    "\n",
    "ques2=\"2. How many miles are there in kilometers?\"\n",
    "print(ques2)\n",
    "num2=float(input(\"Please input kilometers: \"))\n",
    "miles=num2*1.61\n",
    "print(miles,'miles')\n",
    "\n",
    "ques3=\"3. If you run a 10 kilometer race in 42 minutes 42 seconds, what is your average pace? What is your average speed in miles per hour?\"\n",
    "print(ques3)\n",
    "num3=seconds/miles\n",
    "print(num3,'seconds per mile')\n",
    "\n",
    "minutes=seconds/60\n",
    "hour=minutes/60\n",
    "speed=miles/hour\n",
    "\n",
    "print(speed,'miles per hour')\n",
    "print(\"/n\")\n",
    "print(\"/n\")\n",
    "print(\"/n\")\n",
    "print('FORMATIVE ASSESSMENT (USER INPUT VERSION)')\n",
    "\n",
    "num1=int(input(\"Please input minutes: \"))\n",
    "num1a=int(input(\"Please input seconds: \"))\n",
    "ques1=\"1. How many seconds are there in \",num1,\" minutes \",num1a,\" seconds?\"\n",
    "print(ques1)\n",
    "seconds=num1*60+num1a\n",
    "print(seconds,'seconds')\n",
    "\n",
    "\n",
    "num2=float(input(\"Please input kilometers: \"))\n",
    "ques2=\"2. How many miles are there in \",num2,\" kilometers?\"\n",
    "print(ques2)\n",
    "miles=num2*1.61\n",
    "print(miles,'miles')\n",
    "\n",
    "ques3=\"3. If you run a 10 kilometer race in \",num1,\" minutes \",num1a,\" seconds, what is your average pace? What is your average speed in miles per hour?\"\n",
    "print(ques3)\n",
    "num3=seconds/miles\n",
    "print(num3,'seconds per mile')\n",
    "\n",
    "minutes=seconds/60\n",
    "hour=minutes/60\n",
    "speed=miles/hour"
   ]
  },
  {
   "cell_type": "code",
   "execution_count": null,
   "metadata": {},
   "outputs": [],
   "source": []
  }
 ],
 "metadata": {
  "kernelspec": {
   "display_name": "Python 3",
   "language": "python",
   "name": "python3"
  },
  "language_info": {
   "codemirror_mode": {
    "name": "ipython",
    "version": 3
   },
   "file_extension": ".py",
   "mimetype": "text/x-python",
   "name": "python",
   "nbconvert_exporter": "python",
   "pygments_lexer": "ipython3",
   "version": "3.7.0"
  }
 },
 "nbformat": 4,
 "nbformat_minor": 2
}
